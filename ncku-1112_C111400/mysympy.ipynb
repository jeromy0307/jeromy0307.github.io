{
  "nbformat": 4,
  "nbformat_minor": 0,
  "metadata": {
    "anaconda-cloud": {},
    "kernelspec": {
      "display_name": "Python [default]",
      "language": "python",
      "name": "python3"
    },
    "language_info": {
      "codemirror_mode": {
        "name": "ipython",
        "version": 3
      },
      "file_extension": ".py",
      "mimetype": "text/x-python",
      "name": "python",
      "nbconvert_exporter": "python",
      "pygments_lexer": "ipython3",
      "version": "3.5.2"
    },
    "colab": {
      "provenance": [],
      "include_colab_link": true
    }
  },
  "cells": [
    {
      "cell_type": "markdown",
      "metadata": {
        "id": "view-in-github",
        "colab_type": "text"
      },
      "source": [
        "<a href=\"https://colab.research.google.com/github/jeromy0307/jeromy0307.github.io/blob/master/ncku-1112_C111400/mysympy.ipynb\" target=\"_parent\"><img src=\"https://colab.research.google.com/assets/colab-badge.svg\" alt=\"Open In Colab\"/></a>"
      ]
    },
    {
      "cell_type": "markdown",
      "metadata": {
        "id": "waC2My9gFTmI"
      },
      "source": [
        "# 計算機概論期末報告範本\n",
        "\n",
        "使用Colab製作期末報告內容需包含 \n",
        "* 以matplotlib繪圖(三個函數)\n",
        "* 使用sympy解決微積分課本中的三種類型題目：極限、微分、積分；每種類型請各做三個例題。\n",
        "* 使用sympy計算某函數的微分，接著再使用 lambdify 將其定義為函數，同時以matplotlib畫出原函數與其微分的函數圖形\n",
        "* 請貼上個人照片\n",
        "* 繳交時請繳交ipynb檔以及轉換的pdf檔\n"
      ]
    },
    {
      "cell_type": "markdown",
      "metadata": {
        "id": "NA0uskGSFTmK"
      },
      "source": [
        "# 成功大學數學系 林子閔 C14116190"
      ]
    },
    {
      "cell_type": "markdown",
      "source": [
        "<img src=\"https://nbk.acad.ncku.edu.tw/pho/index.php?c=showphoto&m=index&s=APP&no=C14116190&code=35165d513ee241bacde3f846c3420afc\" width=\"146px\">"
      ],
      "metadata": {
        "id": "15e4QCQVDkGQ"
      }
    },
    {
      "cell_type": "markdown",
      "metadata": {
        "id": "CWcGxHihFTmP"
      },
      "source": [
        "報告中的程式碼或是說明不需要鉅細靡遺，原則上能作到日後需要使用這些功能時看這篇說明就可以使用，或是類似網路上一堆使用教學的網誌那就夠了。報告繳交時，除了相關檔案外(ipynb、圖檔)，請將你的ipynb檔另存為pdf檔繳交。"
      ]
    },
    {
      "cell_type": "markdown",
      "metadata": {
        "id": "S_yzQnbmFTmP"
      },
      "source": [
        "## 使用matplotlib畫圖"
      ]
    },
    {
      "cell_type": "markdown",
      "metadata": {
        "id": "l3zOxFefFTmR"
      },
      "source": [
        "首先載入需要的相關模組"
      ]
    },
    {
      "cell_type": "code",
      "metadata": {
        "id": "YODvTmX-FTmS"
      },
      "source": [
        "import matplotlib.pyplot as plt\n",
        "import numpy as np\n",
        "from numpy import sin, cos, exp\n",
        "#%matplotlib inline"
      ],
      "execution_count": 18,
      "outputs": []
    },
    {
      "cell_type": "markdown",
      "metadata": {
        "id": "LqV47_gcFTmZ"
      },
      "source": [
        "準備數據 ... 假設我要畫 $\\cos{e^x}$，$x_a \\le x \\le x_b$\n"
      ]
    },
    {
      "cell_type": "code",
      "metadata": {
        "id": "QKJYSJdVFTma"
      },
      "source": [
        "NumP = 1000\n",
        "x = list(range(0,NumP+1))\n",
        "y = list(range(0,NumP+1))\n",
        "xa = 0.0\n",
        "xb = 10.0\n",
        "dx = (xb-xa)/float(NumP)"
      ],
      "execution_count": 19,
      "outputs": []
    },
    {
      "cell_type": "markdown",
      "metadata": {
        "id": "f-oS3h7qFTmf"
      },
      "source": [
        "注意底下的x[i]、y[i]的寫法，為了畫圖，我們在[xa,xb]取了NumP+1個點(包含兩個端點)，在上面的cell裡，我們計算了分割大小(dx)，然後在底下以loop的方式產生x[i]以及函數在該點的值y[i]。"
      ]
    },
    {
      "cell_type": "code",
      "source": [
        "for i in list(range(NumP+1)):\n",
        "    x[i] = xa+dx*float(i)\n",
        "    y[i]=cos(exp(x[i]))"
      ],
      "metadata": {
        "id": "vtXZ0mPcEqiq"
      },
      "execution_count": 20,
      "outputs": []
    },
    {
      "cell_type": "markdown",
      "source": [
        "不過上述的程式不是好的寫法，比較好的做法是使用numpy的array，請參考以下的寫法"
      ],
      "metadata": {
        "id": "sZ3L3PqfErtG"
      }
    },
    {
      "cell_type": "code",
      "source": [
        "import matplotlib.pyplot as plt\n",
        "import numpy as np\n",
        "from numpy import cos, exp\n",
        "NumP = 100\n",
        "xa = 0.0\n",
        "xb = 10.0\n",
        "dx = (xb-xa)/(NumP)\n",
        "x = np.linspace(xa,xb,NumP+1)\n",
        "y = np.cos(np.exp(x))\n",
        "print(dx)\n",
        "print(x)"
      ],
      "metadata": {
        "id": "W_HOxofkE_XE",
        "colab": {
          "base_uri": "https://localhost:8080/"
        },
        "outputId": "189d8856-030f-4877-8180-f011e36d3da7"
      },
      "execution_count": 23,
      "outputs": [
        {
          "output_type": "stream",
          "name": "stdout",
          "text": [
            "0.1\n",
            "[ 0.   0.1  0.2  0.3  0.4  0.5  0.6  0.7  0.8  0.9  1.   1.1  1.2  1.3\n",
            "  1.4  1.5  1.6  1.7  1.8  1.9  2.   2.1  2.2  2.3  2.4  2.5  2.6  2.7\n",
            "  2.8  2.9  3.   3.1  3.2  3.3  3.4  3.5  3.6  3.7  3.8  3.9  4.   4.1\n",
            "  4.2  4.3  4.4  4.5  4.6  4.7  4.8  4.9  5.   5.1  5.2  5.3  5.4  5.5\n",
            "  5.6  5.7  5.8  5.9  6.   6.1  6.2  6.3  6.4  6.5  6.6  6.7  6.8  6.9\n",
            "  7.   7.1  7.2  7.3  7.4  7.5  7.6  7.7  7.8  7.9  8.   8.1  8.2  8.3\n",
            "  8.4  8.5  8.6  8.7  8.8  8.9  9.   9.1  9.2  9.3  9.4  9.5  9.6  9.7\n",
            "  9.8  9.9 10. ]\n"
          ]
        }
      ]
    },
    {
      "cell_type": "code",
      "metadata": {
        "id": "cCkdq7CtFTmf",
        "colab": {
          "base_uri": "https://localhost:8080/",
          "height": 472
        },
        "outputId": "0863a09f-1c99-431a-e292-44efa31a5476"
      },
      "source": [
        "# 開始畫圖\n",
        "\n",
        "    # 設定要畫的的x,y數據list....\n",
        "\n",
        "plt.plot(x,y) \n",
        "    # 設定圖的範圍, 不設的話，系統會自行決定\n",
        "plt.xlim(0,10)\n",
        "plt.ylim(-1.5,1.5)\n",
        "    # 照需要寫入x 軸和y軸的 label 以及title\n",
        "\n",
        "plt.xlabel(\"x\") \n",
        "plt.ylabel(\"y-axis\") \n",
        "plt.title(\"$\\cos{e^x}$\") \n",
        "    # 在這個指令之前，都還在做畫圖的動作 \n",
        "    # 這個指令算是 \"秀圖\" \n",
        "plt.show() "
      ],
      "execution_count": 24,
      "outputs": [
        {
          "output_type": "display_data",
          "data": {
            "text/plain": [
              "<Figure size 640x480 with 1 Axes>"
            ],
            "image/png": "[encoded data removed]"
          },
          "metadata": {}
        }
      ]
    },
    {
      "cell_type": "markdown",
      "source": [
        "### xkcd\n",
        "Note: 這個小節(xkcd)只是讓你的圖變得有趣，不需要加入你的報告\n",
        "\n",
        "如果想要有趣的圖，可以採用xkcd手繪卡通圖模式\n",
        "\n",
        "* [Python matplotlib xkcd 手繪卡通圖模式教學與範例](https://note.nkmk.me/en/python-range-usage/#:~:text=In%20Python%203%2C%20range()%20creates%20an%20object%20of%20range%20type.&text=An%20object%20of%20range%20type%20does%20not%20store%20values%2C%20but,printed%20in%20the%20for%20loop.&text=If%20you%20want%20to%20generate%20a%20list%2C%20use%20list()%20.)\n",
        "* [https://xkcd.com/](https://xkcd.com/)\n"
      ],
      "metadata": {
        "id": "CSi4vYqRxHLF"
      }
    },
    {
      "cell_type": "code",
      "source": [
        "with plt.xkcd():\n",
        "  for i in list(range(NumP+1)):\n",
        "    x[i] = xa+dx*float(i)\n",
        "    y[i]=sin(exp(x[i]))\n",
        "\n",
        "  # 開始畫圖\n",
        "\n",
        "    # 設定要畫的的x,y數據list....\n",
        "\n",
        "  plt.plot(x,y) \n",
        "    # 設定圖的範圍, 不設的話，系統會自行決定\n",
        "  plt.xlim(0,10)\n",
        "  plt.ylim(-1.5,1.5)\n",
        "    # 照需要寫入x 軸和y軸的 label 以及title\n",
        "\n",
        "  plt.xlabel(\"x-axis\") \n",
        "  plt.ylabel(\"y-axis\") \n",
        "  plt.title(\"Title\") \n",
        "    # 在這個指令之前，都還在做畫圖的動作 \n",
        "    # 這個指令算是 \"秀圖\" \n",
        "  plt.show() \n"
      ],
      "metadata": {
        "colab": {
          "base_uri": "https://localhost:8080/",
          "height": 1000
        },
        "id": "4ptM1auHxVmz",
        "outputId": "7f7ac16e-0ab3-42ab-ec12-9b7edc212ec0"
      },
      "execution_count": null,
      "outputs": [
        {
          "output_type": "stream",
          "name": "stderr",
          "text": [
            "WARNING:matplotlib.font_manager:findfont: Font family 'xkcd' not found.\n",
            "WARNING:matplotlib.font_manager:findfont: Font family 'xkcd Script' not found.\n",
            "WARNING:matplotlib.font_manager:findfont: Font family 'Comic Neue' not found.\n",
            "WARNING:matplotlib.font_manager:findfont: Font family 'Comic Sans MS' not found.\n",
            "WARNING:matplotlib.font_manager:findfont: Font family 'xkcd' not found.\n",
            "WARNING:matplotlib.font_manager:findfont: Font family 'xkcd Script' not found.\n",
            "WARNING:matplotlib.font_manager:findfont: Font family 'Comic Neue' not found.\n",
            "WARNING:matplotlib.font_manager:findfont: Font family 'Comic Sans MS' not found.\n",
            "WARNING:matplotlib.font_manager:findfont: Font family 'xkcd' not found.\n",
            "WARNING:matplotlib.font_manager:findfont: Font family 'xkcd Script' not found.\n",
            "WARNING:matplotlib.font_manager:findfont: Font family 'Comic Neue' not found.\n",
            "WARNING:matplotlib.font_manager:findfont: Font family 'Comic Sans MS' not found.\n",
            "WARNING:matplotlib.font_manager:findfont: Font family 'xkcd' not found.\n",
            "WARNING:matplotlib.font_manager:findfont: Font family 'xkcd Script' not found.\n",
            "WARNING:matplotlib.font_manager:findfont: Font family 'Comic Neue' not found.\n",
            "WARNING:matplotlib.font_manager:findfont: Font family 'Comic Sans MS' not found.\n",
            "WARNING:matplotlib.font_manager:findfont: Font family 'xkcd' not found.\n",
            "WARNING:matplotlib.font_manager:findfont: Font family 'xkcd Script' not found.\n",
            "WARNING:matplotlib.font_manager:findfont: Font family 'Comic Neue' not found.\n",
            "WARNING:matplotlib.font_manager:findfont: Font family 'Comic Sans MS' not found.\n",
            "WARNING:matplotlib.font_manager:findfont: Font family 'xkcd' not found.\n",
            "WARNING:matplotlib.font_manager:findfont: Font family 'xkcd Script' not found.\n",
            "WARNING:matplotlib.font_manager:findfont: Font family 'Comic Neue' not found.\n",
            "WARNING:matplotlib.font_manager:findfont: Font family 'Comic Sans MS' not found.\n",
            "WARNING:matplotlib.font_manager:findfont: Font family 'xkcd' not found.\n",
            "WARNING:matplotlib.font_manager:findfont: Font family 'xkcd Script' not found.\n",
            "WARNING:matplotlib.font_manager:findfont: Font family 'Comic Neue' not found.\n",
            "WARNING:matplotlib.font_manager:findfont: Font family 'Comic Sans MS' not found.\n",
            "WARNING:matplotlib.font_manager:findfont: Font family 'xkcd' not found.\n",
            "WARNING:matplotlib.font_manager:findfont: Font family 'xkcd Script' not found.\n",
            "WARNING:matplotlib.font_manager:findfont: Font family 'Comic Neue' not found.\n",
            "WARNING:matplotlib.font_manager:findfont: Font family 'Comic Sans MS' not found.\n",
            "WARNING:matplotlib.font_manager:findfont: Font family 'xkcd' not found.\n",
            "WARNING:matplotlib.font_manager:findfont: Font family 'xkcd Script' not found.\n",
            "WARNING:matplotlib.font_manager:findfont: Font family 'Comic Neue' not found.\n",
            "WARNING:matplotlib.font_manager:findfont: Font family 'Comic Sans MS' not found.\n",
            "WARNING:matplotlib.font_manager:findfont: Font family 'xkcd' not found.\n",
            "WARNING:matplotlib.font_manager:findfont: Font family 'xkcd Script' not found.\n",
            "WARNING:matplotlib.font_manager:findfont: Font family 'Comic Neue' not found.\n",
            "WARNING:matplotlib.font_manager:findfont: Font family 'Comic Sans MS' not found.\n",
            "WARNING:matplotlib.font_manager:findfont: Font family 'xkcd' not found.\n",
            "WARNING:matplotlib.font_manager:findfont: Font family 'xkcd Script' not found.\n",
            "WARNING:matplotlib.font_manager:findfont: Font family 'Comic Neue' not found.\n",
            "WARNING:matplotlib.font_manager:findfont: Font family 'Comic Sans MS' not found.\n",
            "WARNING:matplotlib.font_manager:findfont: Font family 'xkcd' not found.\n",
            "WARNING:matplotlib.font_manager:findfont: Font family 'xkcd Script' not found.\n",
            "WARNING:matplotlib.font_manager:findfont: Font family 'Comic Neue' not found.\n",
            "WARNING:matplotlib.font_manager:findfont: Font family 'Comic Sans MS' not found.\n",
            "WARNING:matplotlib.font_manager:findfont: Font family 'xkcd' not found.\n",
            "WARNING:matplotlib.font_manager:findfont: Font family 'xkcd Script' not found.\n",
            "WARNING:matplotlib.font_manager:findfont: Font family 'Comic Neue' not found.\n",
            "WARNING:matplotlib.font_manager:findfont: Font family 'Comic Sans MS' not found.\n",
            "WARNING:matplotlib.font_manager:findfont: Font family 'xkcd' not found.\n",
            "WARNING:matplotlib.font_manager:findfont: Font family 'xkcd Script' not found.\n",
            "WARNING:matplotlib.font_manager:findfont: Font family 'Comic Neue' not found.\n",
            "WARNING:matplotlib.font_manager:findfont: Font family 'Comic Sans MS' not found.\n",
            "WARNING:matplotlib.font_manager:findfont: Font family 'xkcd' not found.\n",
            "WARNING:matplotlib.font_manager:findfont: Font family 'xkcd Script' not found.\n",
            "WARNING:matplotlib.font_manager:findfont: Font family 'Comic Neue' not found.\n",
            "WARNING:matplotlib.font_manager:findfont: Font family 'Comic Sans MS' not found.\n",
            "WARNING:matplotlib.font_manager:findfont: Font family 'xkcd' not found.\n",
            "WARNING:matplotlib.font_manager:findfont: Font family 'xkcd Script' not found.\n",
            "WARNING:matplotlib.font_manager:findfont: Font family 'Comic Neue' not found.\n",
            "WARNING:matplotlib.font_manager:findfont: Font family 'Comic Sans MS' not found.\n",
            "WARNING:matplotlib.font_manager:findfont: Font family 'xkcd' not found.\n",
            "WARNING:matplotlib.font_manager:findfont: Font family 'xkcd Script' not found.\n",
            "WARNING:matplotlib.font_manager:findfont: Font family 'Comic Neue' not found.\n",
            "WARNING:matplotlib.font_manager:findfont: Font family 'Comic Sans MS' not found.\n",
            "WARNING:matplotlib.font_manager:findfont: Font family 'xkcd' not found.\n",
            "WARNING:matplotlib.font_manager:findfont: Font family 'xkcd Script' not found.\n",
            "WARNING:matplotlib.font_manager:findfont: Font family 'Comic Neue' not found.\n",
            "WARNING:matplotlib.font_manager:findfont: Font family 'Comic Sans MS' not found.\n",
            "WARNING:matplotlib.font_manager:findfont: Font family 'xkcd' not found.\n",
            "WARNING:matplotlib.font_manager:findfont: Font family 'xkcd Script' not found.\n",
            "WARNING:matplotlib.font_manager:findfont: Font family 'Comic Neue' not found.\n",
            "WARNING:matplotlib.font_manager:findfont: Font family 'Comic Sans MS' not found.\n",
            "WARNING:matplotlib.font_manager:findfont: Font family 'xkcd' not found.\n",
            "WARNING:matplotlib.font_manager:findfont: Font family 'xkcd Script' not found.\n",
            "WARNING:matplotlib.font_manager:findfont: Font family 'Comic Neue' not found.\n",
            "WARNING:matplotlib.font_manager:findfont: Font family 'Comic Sans MS' not found.\n",
            "WARNING:matplotlib.font_manager:findfont: Font family 'xkcd' not found.\n",
            "WARNING:matplotlib.font_manager:findfont: Font family 'xkcd Script' not found.\n",
            "WARNING:matplotlib.font_manager:findfont: Font family 'Comic Neue' not found.\n",
            "WARNING:matplotlib.font_manager:findfont: Font family 'Comic Sans MS' not found.\n",
            "WARNING:matplotlib.font_manager:findfont: Font family 'xkcd' not found.\n",
            "WARNING:matplotlib.font_manager:findfont: Font family 'xkcd Script' not found.\n",
            "WARNING:matplotlib.font_manager:findfont: Font family 'Comic Neue' not found.\n",
            "WARNING:matplotlib.font_manager:findfont: Font family 'Comic Sans MS' not found.\n",
            "WARNING:matplotlib.font_manager:findfont: Font family 'xkcd' not found.\n",
            "WARNING:matplotlib.font_manager:findfont: Font family 'xkcd Script' not found.\n",
            "WARNING:matplotlib.font_manager:findfont: Font family 'Comic Neue' not found.\n",
            "WARNING:matplotlib.font_manager:findfont: Font family 'Comic Sans MS' not found.\n",
            "WARNING:matplotlib.font_manager:findfont: Font family 'xkcd' not found.\n",
            "WARNING:matplotlib.font_manager:findfont: Font family 'xkcd Script' not found.\n",
            "WARNING:matplotlib.font_manager:findfont: Font family 'Comic Neue' not found.\n",
            "WARNING:matplotlib.font_manager:findfont: Font family 'Comic Sans MS' not found.\n",
            "WARNING:matplotlib.font_manager:findfont: Font family 'xkcd' not found.\n",
            "WARNING:matplotlib.font_manager:findfont: Font family 'xkcd Script' not found.\n",
            "WARNING:matplotlib.font_manager:findfont: Font family 'Comic Neue' not found.\n",
            "WARNING:matplotlib.font_manager:findfont: Font family 'Comic Sans MS' not found.\n",
            "WARNING:matplotlib.font_manager:findfont: Font family 'xkcd' not found.\n",
            "WARNING:matplotlib.font_manager:findfont: Font family 'xkcd Script' not found.\n",
            "WARNING:matplotlib.font_manager:findfont: Font family 'Comic Neue' not found.\n",
            "WARNING:matplotlib.font_manager:findfont: Font family 'Comic Sans MS' not found.\n",
            "WARNING:matplotlib.font_manager:findfont: Font family 'xkcd' not found.\n",
            "WARNING:matplotlib.font_manager:findfont: Font family 'xkcd Script' not found.\n",
            "WARNING:matplotlib.font_manager:findfont: Font family 'Comic Neue' not found.\n",
            "WARNING:matplotlib.font_manager:findfont: Font family 'Comic Sans MS' not found.\n",
            "WARNING:matplotlib.font_manager:findfont: Font family 'xkcd' not found.\n",
            "WARNING:matplotlib.font_manager:findfont: Font family 'xkcd Script' not found.\n",
            "WARNING:matplotlib.font_manager:findfont: Font family 'Comic Neue' not found.\n",
            "WARNING:matplotlib.font_manager:findfont: Font family 'Comic Sans MS' not found.\n",
            "WARNING:matplotlib.font_manager:findfont: Font family 'xkcd' not found.\n",
            "WARNING:matplotlib.font_manager:findfont: Font family 'xkcd Script' not found.\n",
            "WARNING:matplotlib.font_manager:findfont: Font family 'Comic Neue' not found.\n",
            "WARNING:matplotlib.font_manager:findfont: Font family 'Comic Sans MS' not found.\n",
            "WARNING:matplotlib.font_manager:findfont: Font family 'xkcd' not found.\n",
            "WARNING:matplotlib.font_manager:findfont: Font family 'xkcd Script' not found.\n",
            "WARNING:matplotlib.font_manager:findfont: Font family 'Comic Neue' not found.\n",
            "WARNING:matplotlib.font_manager:findfont: Font family 'Comic Sans MS' not found.\n",
            "WARNING:matplotlib.font_manager:findfont: Font family 'xkcd' not found.\n",
            "WARNING:matplotlib.font_manager:findfont: Font family 'xkcd Script' not found.\n",
            "WARNING:matplotlib.font_manager:findfont: Font family 'Comic Neue' not found.\n",
            "WARNING:matplotlib.font_manager:findfont: Font family 'Comic Sans MS' not found.\n",
            "WARNING:matplotlib.font_manager:findfont: Font family 'xkcd' not found.\n",
            "WARNING:matplotlib.font_manager:findfont: Font family 'xkcd Script' not found.\n",
            "WARNING:matplotlib.font_manager:findfont: Font family 'Comic Neue' not found.\n",
            "WARNING:matplotlib.font_manager:findfont: Font family 'Comic Sans MS' not found.\n",
            "WARNING:matplotlib.font_manager:findfont: Font family 'xkcd' not found.\n",
            "WARNING:matplotlib.font_manager:findfont: Font family 'xkcd Script' not found.\n",
            "WARNING:matplotlib.font_manager:findfont: Font family 'Comic Neue' not found.\n",
            "WARNING:matplotlib.font_manager:findfont: Font family 'Comic Sans MS' not found.\n",
            "WARNING:matplotlib.font_manager:findfont: Font family 'xkcd' not found.\n",
            "WARNING:matplotlib.font_manager:findfont: Font family 'xkcd Script' not found.\n",
            "WARNING:matplotlib.font_manager:findfont: Font family 'Comic Neue' not found.\n",
            "WARNING:matplotlib.font_manager:findfont: Font family 'Comic Sans MS' not found.\n",
            "WARNING:matplotlib.font_manager:findfont: Font family 'xkcd' not found.\n",
            "WARNING:matplotlib.font_manager:findfont: Font family 'xkcd Script' not found.\n",
            "WARNING:matplotlib.font_manager:findfont: Font family 'Comic Neue' not found.\n",
            "WARNING:matplotlib.font_manager:findfont: Font family 'Comic Sans MS' not found.\n",
            "WARNING:matplotlib.font_manager:findfont: Font family 'xkcd' not found.\n",
            "WARNING:matplotlib.font_manager:findfont: Font family 'xkcd Script' not found.\n",
            "WARNING:matplotlib.font_manager:findfont: Font family 'Comic Neue' not found.\n",
            "WARNING:matplotlib.font_manager:findfont: Font family 'Comic Sans MS' not found.\n",
            "WARNING:matplotlib.font_manager:findfont: Font family 'xkcd' not found.\n",
            "WARNING:matplotlib.font_manager:findfont: Font family 'xkcd Script' not found.\n",
            "WARNING:matplotlib.font_manager:findfont: Font family 'Comic Neue' not found.\n",
            "WARNING:matplotlib.font_manager:findfont: Font family 'Comic Sans MS' not found.\n",
            "WARNING:matplotlib.font_manager:findfont: Font family 'xkcd' not found.\n",
            "WARNING:matplotlib.font_manager:findfont: Font family 'xkcd Script' not found.\n",
            "WARNING:matplotlib.font_manager:findfont: Font family 'Comic Neue' not found.\n",
            "WARNING:matplotlib.font_manager:findfont: Font family 'Comic Sans MS' not found.\n",
            "WARNING:matplotlib.font_manager:findfont: Font family 'xkcd' not found.\n",
            "WARNING:matplotlib.font_manager:findfont: Font family 'xkcd Script' not found.\n",
            "WARNING:matplotlib.font_manager:findfont: Font family 'Comic Neue' not found.\n",
            "WARNING:matplotlib.font_manager:findfont: Font family 'Comic Sans MS' not found.\n",
            "WARNING:matplotlib.font_manager:findfont: Font family 'xkcd' not found.\n",
            "WARNING:matplotlib.font_manager:findfont: Font family 'xkcd Script' not found.\n",
            "WARNING:matplotlib.font_manager:findfont: Font family 'Comic Neue' not found.\n",
            "WARNING:matplotlib.font_manager:findfont: Font family 'Comic Sans MS' not found.\n",
            "WARNING:matplotlib.font_manager:findfont: Font family 'xkcd' not found.\n",
            "WARNING:matplotlib.font_manager:findfont: Font family 'xkcd Script' not found.\n",
            "WARNING:matplotlib.font_manager:findfont: Font family 'Comic Neue' not found.\n",
            "WARNING:matplotlib.font_manager:findfont: Font family 'Comic Sans MS' not found.\n",
            "WARNING:matplotlib.font_manager:findfont: Font family 'xkcd' not found.\n",
            "WARNING:matplotlib.font_manager:findfont: Font family 'xkcd Script' not found.\n",
            "WARNING:matplotlib.font_manager:findfont: Font family 'Comic Neue' not found.\n",
            "WARNING:matplotlib.font_manager:findfont: Font family 'Comic Sans MS' not found.\n",
            "WARNING:matplotlib.font_manager:findfont: Font family 'xkcd' not found.\n",
            "WARNING:matplotlib.font_manager:findfont: Font family 'xkcd Script' not found.\n",
            "WARNING:matplotlib.font_manager:findfont: Font family 'Comic Neue' not found.\n",
            "WARNING:matplotlib.font_manager:findfont: Font family 'Comic Sans MS' not found.\n",
            "WARNING:matplotlib.font_manager:findfont: Font family 'xkcd' not found.\n",
            "WARNING:matplotlib.font_manager:findfont: Font family 'xkcd Script' not found.\n",
            "WARNING:matplotlib.font_manager:findfont: Font family 'Comic Neue' not found.\n",
            "WARNING:matplotlib.font_manager:findfont: Font family 'Comic Sans MS' not found.\n",
            "WARNING:matplotlib.font_manager:findfont: Font family 'xkcd' not found.\n",
            "WARNING:matplotlib.font_manager:findfont: Font family 'xkcd Script' not found.\n",
            "WARNING:matplotlib.font_manager:findfont: Font family 'Comic Neue' not found.\n",
            "WARNING:matplotlib.font_manager:findfont: Font family 'Comic Sans MS' not found.\n",
            "WARNING:matplotlib.font_manager:findfont: Font family 'xkcd' not found.\n",
            "WARNING:matplotlib.font_manager:findfont: Font family 'xkcd Script' not found.\n",
            "WARNING:matplotlib.font_manager:findfont: Font family 'Comic Neue' not found.\n",
            "WARNING:matplotlib.font_manager:findfont: Font family 'Comic Sans MS' not found.\n",
            "WARNING:matplotlib.font_manager:findfont: Font family 'xkcd' not found.\n",
            "WARNING:matplotlib.font_manager:findfont: Font family 'xkcd Script' not found.\n",
            "WARNING:matplotlib.font_manager:findfont: Font family 'Comic Neue' not found.\n",
            "WARNING:matplotlib.font_manager:findfont: Font family 'Comic Sans MS' not found.\n",
            "WARNING:matplotlib.font_manager:findfont: Font family 'xkcd' not found.\n",
            "WARNING:matplotlib.font_manager:findfont: Font family 'xkcd Script' not found.\n",
            "WARNING:matplotlib.font_manager:findfont: Font family 'Comic Neue' not found.\n",
            "WARNING:matplotlib.font_manager:findfont: Font family 'Comic Sans MS' not found.\n",
            "WARNING:matplotlib.font_manager:findfont: Font family 'xkcd' not found.\n",
            "WARNING:matplotlib.font_manager:findfont: Font family 'xkcd Script' not found.\n",
            "WARNING:matplotlib.font_manager:findfont: Font family 'Comic Neue' not found.\n",
            "WARNING:matplotlib.font_manager:findfont: Font family 'Comic Sans MS' not found.\n",
            "WARNING:matplotlib.font_manager:findfont: Font family 'xkcd' not found.\n",
            "WARNING:matplotlib.font_manager:findfont: Font family 'xkcd Script' not found.\n",
            "WARNING:matplotlib.font_manager:findfont: Font family 'Comic Neue' not found.\n",
            "WARNING:matplotlib.font_manager:findfont: Font family 'Comic Sans MS' not found.\n",
            "WARNING:matplotlib.font_manager:findfont: Font family 'xkcd' not found.\n",
            "WARNING:matplotlib.font_manager:findfont: Font family 'xkcd Script' not found.\n",
            "WARNING:matplotlib.font_manager:findfont: Font family 'Comic Neue' not found.\n",
            "WARNING:matplotlib.font_manager:findfont: Font family 'Comic Sans MS' not found.\n",
            "WARNING:matplotlib.font_manager:findfont: Font family 'xkcd' not found.\n",
            "WARNING:matplotlib.font_manager:findfont: Font family 'xkcd Script' not found.\n",
            "WARNING:matplotlib.font_manager:findfont: Font family 'Comic Neue' not found.\n",
            "WARNING:matplotlib.font_manager:findfont: Font family 'Comic Sans MS' not found.\n",
            "WARNING:matplotlib.font_manager:findfont: Font family 'xkcd' not found.\n",
            "WARNING:matplotlib.font_manager:findfont: Font family 'xkcd Script' not found.\n",
            "WARNING:matplotlib.font_manager:findfont: Font family 'Comic Neue' not found.\n",
            "WARNING:matplotlib.font_manager:findfont: Font family 'Comic Sans MS' not found.\n",
            "WARNING:matplotlib.font_manager:findfont: Font family 'xkcd' not found.\n",
            "WARNING:matplotlib.font_manager:findfont: Font family 'xkcd Script' not found.\n",
            "WARNING:matplotlib.font_manager:findfont: Font family 'Comic Neue' not found.\n",
            "WARNING:matplotlib.font_manager:findfont: Font family 'Comic Sans MS' not found.\n",
            "WARNING:matplotlib.font_manager:findfont: Font family 'xkcd' not found.\n",
            "WARNING:matplotlib.font_manager:findfont: Font family 'xkcd Script' not found.\n",
            "WARNING:matplotlib.font_manager:findfont: Font family 'Comic Neue' not found.\n",
            "WARNING:matplotlib.font_manager:findfont: Font family 'Comic Sans MS' not found.\n",
            "WARNING:matplotlib.font_manager:findfont: Font family 'xkcd' not found.\n",
            "WARNING:matplotlib.font_manager:findfont: Font family 'xkcd Script' not found.\n",
            "WARNING:matplotlib.font_manager:findfont: Font family 'Comic Neue' not found.\n",
            "WARNING:matplotlib.font_manager:findfont: Font family 'Comic Sans MS' not found.\n",
            "WARNING:matplotlib.font_manager:findfont: Font family 'xkcd' not found.\n",
            "WARNING:matplotlib.font_manager:findfont: Font family 'xkcd Script' not found.\n",
            "WARNING:matplotlib.font_manager:findfont: Font family 'Comic Neue' not found.\n",
            "WARNING:matplotlib.font_manager:findfont: Font family 'Comic Sans MS' not found.\n",
            "WARNING:matplotlib.font_manager:findfont: Font family 'xkcd' not found.\n",
            "WARNING:matplotlib.font_manager:findfont: Font family 'xkcd Script' not found.\n",
            "WARNING:matplotlib.font_manager:findfont: Font family 'Comic Neue' not found.\n",
            "WARNING:matplotlib.font_manager:findfont: Font family 'Comic Sans MS' not found.\n",
            "WARNING:matplotlib.font_manager:findfont: Font family 'xkcd' not found.\n",
            "WARNING:matplotlib.font_manager:findfont: Font family 'xkcd Script' not found.\n",
            "WARNING:matplotlib.font_manager:findfont: Font family 'Comic Neue' not found.\n",
            "WARNING:matplotlib.font_manager:findfont: Font family 'Comic Sans MS' not found.\n",
            "WARNING:matplotlib.font_manager:findfont: Font family 'xkcd' not found.\n",
            "WARNING:matplotlib.font_manager:findfont: Font family 'xkcd Script' not found.\n",
            "WARNING:matplotlib.font_manager:findfont: Font family 'Comic Neue' not found.\n",
            "WARNING:matplotlib.font_manager:findfont: Font family 'Comic Sans MS' not found.\n",
            "WARNING:matplotlib.font_manager:findfont: Font family 'xkcd' not found.\n",
            "WARNING:matplotlib.font_manager:findfont: Font family 'xkcd Script' not found.\n",
            "WARNING:matplotlib.font_manager:findfont: Font family 'Comic Neue' not found.\n",
            "WARNING:matplotlib.font_manager:findfont: Font family 'Comic Sans MS' not found.\n",
            "WARNING:matplotlib.font_manager:findfont: Font family 'xkcd' not found.\n",
            "WARNING:matplotlib.font_manager:findfont: Font family 'xkcd Script' not found.\n",
            "WARNING:matplotlib.font_manager:findfont: Font family 'Comic Neue' not found.\n",
            "WARNING:matplotlib.font_manager:findfont: Font family 'Comic Sans MS' not found.\n",
            "WARNING:matplotlib.font_manager:findfont: Font family 'xkcd' not found.\n",
            "WARNING:matplotlib.font_manager:findfont: Font family 'xkcd Script' not found.\n",
            "WARNING:matplotlib.font_manager:findfont: Font family 'Comic Neue' not found.\n",
            "WARNING:matplotlib.font_manager:findfont: Font family 'Comic Sans MS' not found.\n",
            "WARNING:matplotlib.font_manager:findfont: Font family 'xkcd' not found.\n",
            "WARNING:matplotlib.font_manager:findfont: Font family 'xkcd Script' not found.\n",
            "WARNING:matplotlib.font_manager:findfont: Font family 'Comic Neue' not found.\n",
            "WARNING:matplotlib.font_manager:findfont: Font family 'Comic Sans MS' not found.\n",
            "WARNING:matplotlib.font_manager:findfont: Font family 'xkcd' not found.\n",
            "WARNING:matplotlib.font_manager:findfont: Font family 'xkcd Script' not found.\n",
            "WARNING:matplotlib.font_manager:findfont: Font family 'Comic Neue' not found.\n",
            "WARNING:matplotlib.font_manager:findfont: Font family 'Comic Sans MS' not found.\n",
            "WARNING:matplotlib.font_manager:findfont: Font family 'xkcd' not found.\n",
            "WARNING:matplotlib.font_manager:findfont: Font family 'xkcd Script' not found.\n",
            "WARNING:matplotlib.font_manager:findfont: Font family 'Comic Neue' not found.\n",
            "WARNING:matplotlib.font_manager:findfont: Font family 'Comic Sans MS' not found.\n",
            "WARNING:matplotlib.font_manager:findfont: Font family 'xkcd' not found.\n",
            "WARNING:matplotlib.font_manager:findfont: Font family 'xkcd Script' not found.\n",
            "WARNING:matplotlib.font_manager:findfont: Font family 'Comic Neue' not found.\n",
            "WARNING:matplotlib.font_manager:findfont: Font family 'Comic Sans MS' not found.\n",
            "WARNING:matplotlib.font_manager:findfont: Font family 'xkcd' not found.\n",
            "WARNING:matplotlib.font_manager:findfont: Font family 'xkcd Script' not found.\n",
            "WARNING:matplotlib.font_manager:findfont: Font family 'Comic Neue' not found.\n",
            "WARNING:matplotlib.font_manager:findfont: Font family 'Comic Sans MS' not found.\n"
          ]
        },
        {
          "output_type": "display_data",
          "data": {
            "text/plain": [
              "<Figure size 640x480 with 1 Axes>"
            ],
            "image/png": "[encoded data removed]"
          },
          "metadata": {}
        }
      ]
    },
    {
      "cell_type": "markdown",
      "metadata": {
        "id": "buphWFj2FTmm"
      },
      "source": [
        "## 使用sympy計算極限"
      ]
    },
    {
      "cell_type": "markdown",
      "metadata": {
        "id": "S3tWhgcrFTmn"
      },
      "source": [
        "<strike>底下我們將是著引入可以讓結果比較漂亮的模組(printing)，由於每一台電腦安裝的程式都有些許不同，所以不見得可以引入</strike>\n"
      ]
    },
    {
      "cell_type": "code",
      "metadata": {
        "id": "6P7tMj5OFTmo"
      },
      "source": [
        "#import pkg_resources\n",
        "#if pkg_resources.get_distribution(\"sympy\").version > \"0.7.4\":\n",
        "#    from sympy.interactive import printing\n",
        "#    printing.init_printing(use_latex=True)\n",
        "#\n",
        "#from IPython.display import display"
      ],
      "execution_count": null,
      "outputs": []
    },
    {
      "cell_type": "markdown",
      "metadata": {
        "id": "chg8ky2HFTms"
      },
      "source": [
        "底下的例子是計算$\\lim_{x \\to 0} \\frac{\\sin{x}}{x}$\n",
        "由於我們要計算limit、sin所以我們需要由sympy(符號計算)引入相關函數，同時需要宣告x是一個符號變數"
      ]
    },
    {
      "cell_type": "code",
      "metadata": {
        "id": "fGIEsXe_FTmt",
        "colab": {
          "base_uri": "https://localhost:8080/",
          "height": 37
        },
        "outputId": "e6253b9a-d991-4ec9-e7e1-493429a610b3"
      },
      "source": [
        "from sympy import limit, Symbol, sin, oo\n",
        "x = Symbol('x')\n",
        "limit(sin(x)/x, x, 0)"
      ],
      "execution_count": null,
      "outputs": [
        {
          "output_type": "execute_result",
          "data": {
            "text/plain": [
              "1"
            ],
            "text/latex": "$\\displaystyle 1$"
          },
          "metadata": {},
          "execution_count": 8
        }
      ]
    },
    {
      "cell_type": "markdown",
      "metadata": {
        "id": "TBkK-e6UFTm0"
      },
      "source": [
        "$\\lim_{x \\to \\infty} \\frac{\\sin{x}}{x}$"
      ]
    },
    {
      "cell_type": "code",
      "metadata": {
        "id": "reTHSHmzFTm1",
        "colab": {
          "base_uri": "https://localhost:8080/",
          "height": 37
        },
        "outputId": "ca6dfe80-aafa-4a5e-caaa-26ae6bd6ac2d"
      },
      "source": [
        "limit(sin(x)/x, x, oo)"
      ],
      "execution_count": null,
      "outputs": [
        {
          "output_type": "execute_result",
          "data": {
            "text/plain": [
              "0"
            ],
            "text/latex": "$\\displaystyle 0$"
          },
          "metadata": {},
          "execution_count": 9
        }
      ]
    },
    {
      "cell_type": "markdown",
      "metadata": {
        "id": "j0fgSefrFTm5"
      },
      "source": [
        "## 使用sympy計算積分"
      ]
    },
    {
      "cell_type": "markdown",
      "metadata": {
        "id": "_pWlzZDHFTm6"
      },
      "source": [
        "底下的例子是計算$\\int x\\sin{x^2}\\, dx$，由於前面已經引入 sin 同時也將x 宣告為一個symbol，所以我們這邊只需要再引入integrate"
      ]
    },
    {
      "cell_type": "code",
      "metadata": {
        "id": "wRtCIN_nFTm7",
        "colab": {
          "base_uri": "https://localhost:8080/",
          "height": 56
        },
        "outputId": "ee7ed5cd-3be0-48a5-e2cd-c6bb7883b598"
      },
      "source": [
        " from sympy import integrate\n",
        " integrate(x*sin(x**2), x)"
      ],
      "execution_count": null,
      "outputs": [
        {
          "output_type": "execute_result",
          "data": {
            "text/plain": [
              "-cos(x**2)/2"
            ],
            "text/latex": "$\\displaystyle - \\frac{\\cos{\\left(x^{2} \\right)}}{2}$"
          },
          "metadata": {},
          "execution_count": 10
        }
      ]
    },
    {
      "cell_type": "markdown",
      "source": [
        "$$\\int_0^1 x\\, dx$$"
      ],
      "metadata": {
        "id": "XQvjTEjwr3xr"
      }
    },
    {
      "cell_type": "code",
      "source": [
        "integrate(x,(x,0,1))"
      ],
      "metadata": {
        "colab": {
          "base_uri": "https://localhost:8080/",
          "height": 51
        },
        "id": "kesdQKwZrbYC",
        "outputId": "99681a7c-7a48-4659-8aa3-3c3f47c5b453"
      },
      "execution_count": null,
      "outputs": [
        {
          "output_type": "execute_result",
          "data": {
            "text/plain": [
              "1/2"
            ],
            "text/latex": "$\\displaystyle \\frac{1}{2}$"
          },
          "metadata": {},
          "execution_count": 11
        }
      ]
    },
    {
      "cell_type": "markdown",
      "metadata": {
        "id": "bXGARU3aFTm_"
      },
      "source": [
        "## 使用sympy計算微分"
      ]
    },
    {
      "cell_type": "markdown",
      "metadata": {
        "id": "NBZu4OzYFTnA"
      },
      "source": [
        "底下的例子是計算$\\frac{d}{dx} \\sin{x}$，由於前面已經引入 sin 同時也將x 宣告為一個symbol，所以我們這邊只需要再引入diff"
      ]
    },
    {
      "cell_type": "code",
      "metadata": {
        "id": "A091iVP2FTnB",
        "colab": {
          "base_uri": "https://localhost:8080/",
          "height": 39
        },
        "outputId": "48e52914-ee37-46a1-b01f-0ef06d316520"
      },
      "source": [
        "from sympy import diff\n",
        "diff(sin(x), x)"
      ],
      "execution_count": null,
      "outputs": [
        {
          "output_type": "execute_result",
          "data": {
            "text/plain": [
              "cos(x)"
            ],
            "text/latex": "$\\displaystyle \\cos{\\left(x \\right)}$"
          },
          "metadata": {},
          "execution_count": 12
        }
      ]
    },
    {
      "cell_type": "markdown",
      "metadata": {
        "id": "yx7GSJstFTnG"
      },
      "source": [
        "$\\frac{d^2}{dx^2} \\sin{x}$"
      ]
    },
    {
      "cell_type": "code",
      "metadata": {
        "id": "57MtXisBFTnH",
        "colab": {
          "base_uri": "https://localhost:8080/",
          "height": 39
        },
        "outputId": "c21f2abe-f042-43a3-ac44-9bf5e2e2c5ca"
      },
      "source": [
        "diff(sin(x), x,2)"
      ],
      "execution_count": null,
      "outputs": [
        {
          "output_type": "execute_result",
          "data": {
            "text/plain": [
              "-sin(x)"
            ],
            "text/latex": "$\\displaystyle - \\sin{\\left(x \\right)}$"
          },
          "metadata": {},
          "execution_count": 13
        }
      ]
    },
    {
      "cell_type": "code",
      "metadata": {
        "id": "WPUAT7ovFTnL",
        "colab": {
          "base_uri": "https://localhost:8080/",
          "height": 39
        },
        "outputId": "64e1d712-626d-4d72-e33f-e5fdc062d926"
      },
      "source": [
        "diff(sin(x), x,x)"
      ],
      "execution_count": null,
      "outputs": [
        {
          "output_type": "execute_result",
          "data": {
            "text/plain": [
              "-sin(x)"
            ],
            "text/latex": "$\\displaystyle - \\sin{\\left(x \\right)}$"
          },
          "metadata": {},
          "execution_count": 14
        }
      ]
    },
    {
      "cell_type": "markdown",
      "metadata": {
        "id": "9h36fiykFTnQ"
      },
      "source": [
        "## 補充資料：Latex"
      ]
    },
    {
      "cell_type": "markdown",
      "metadata": {
        "id": "WliH94DpFTnR"
      },
      "source": [
        "上面內容中，除了ipython的輸出外，有時候你會看到數學式混雜在文字敘述中，如果你把該cell改成 Raw NBConvert 會發現有些式子在$ $中，那些式子是latex的寫法。latex是常用來打數學方程是的一種軟體，但是要整篇文章都用latex打，需要時間熟悉用法。在ipython notebook或是markdown裡，允許我們在文字中使用latex語法打數學式，比方說(\"$\" 前的\"*\"是讓markdown以條列式方式表示)\n",
        "\n",
        "* $\\sum_{i=1}^n a_i=0$\n",
        "\n",
        "* $f(x)=x^{x^x}$\n",
        "\n",
        "* $\\frac{du}{dt}$ and $\\frac{d^2 u}{dx^2}$\n",
        "\n",
        "* $\\lim_{x \\to 0} \\frac{3x^2 +7x^3}{x^2 +5x^4} = 3.$\n",
        "\n",
        "* $\\int_a^b f(x)\\,dx.$\n",
        "\n",
        "* $\\int_0^{+\\infty} x^n e^{-x} \\,dx = n!.$ \n",
        "\n",
        "* $\\int \\cos \\theta \\,d\\theta = \\sin \\theta.$\n",
        "\n",
        "* $\\int_{x^2 + y^2 \\leq R^2} f(x,y)\\,dx\\,dy = \\int_{\\theta=0}^{2\\pi} \\int_{r=0} ^R f(r\\cos\\theta,r\\sin\\theta) r\\,dr\\,d\\theta.$\n",
        "\n",
        "* $$ \\int_{x^2 + y^2 \\leq R^2} f(x,y)\\,dx\\,dy = \\int_{\\theta=0}^{2\\pi} \\int_{r=0} ^R f(r\\cos\\theta,r\\sin\\theta) r\\,dr\\,d\\theta.$$\n",
        "\n",
        "最後一個例子我是用\"$$\"夾起整個式子，這在latex裡是表示這個式子要獨占一行置中，同時顯示的格式會比較漂亮。\n",
        "\n",
        "請注意\"$\"和你的式子間不要有空白\n",
        "\n",
        "如果你想把報告打漂亮一點，可以試著使用latex"
      ]
    },
    {
      "cell_type": "markdown",
      "metadata": {
        "id": "-3z3Fmc7FTnS"
      },
      "source": [
        "## 參考資料："
      ]
    },
    {
      "cell_type": "markdown",
      "metadata": {
        "id": "Wk6DOqfEFTnT"
      },
      "source": [
        "底下是一些參考資料，網路上還有非常多資料可以使用(用星號可以條列式顯示，各項間請空一行之後在轉換成pdf檔時才不會擠在一起)\n",
        "\n",
        "* [LaTeX技巧10：LaTeX數學公式輸入初級入門](http://blog.sina.com.cn/s/blog_5e16f1770100fs38.html)\n",
        "\n",
        "* [Markdown的用法](http://markdown.tw/)\n",
        "\n",
        "* [炎龍老師的blogIPython 的 Notebook 界面](http://yenlungblog.wordpress.com/2013/11/21/python-ipython-%E7%9A%84-notebook-%E7%95%8C%E9%9D%A2/)\n",
        "\n",
        "* [用python 畫圖 -- matplotlib -- 騙錢教學](http://onionys.blogspot.tw/2012/01/python-matplotlib.html)\n",
        "\n",
        "* [SymPy -- 使用 Python 幫你導煩人的數學公式（三）](http://www.gtwang.org/2012/12/sympy3.html)"
      ]
    }
  ]
}