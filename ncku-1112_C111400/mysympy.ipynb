{
  "nbformat": 4,
  "nbformat_minor": 0,
  "metadata": {
    "anaconda-cloud": {},
    "kernelspec": {
      "display_name": "Python [default]",
      "language": "python",
      "name": "python3"
    },
    "language_info": {
      "codemirror_mode": {
        "name": "ipython",
        "version": 3
      },
      "file_extension": ".py",
      "mimetype": "text/x-python",
      "name": "python",
      "nbconvert_exporter": "python",
      "pygments_lexer": "ipython3",
      "version": "3.5.2"
    },
    "colab": {
      "provenance": [],
      "include_colab_link": true
    }
  },
  "cells": [
    {
      "cell_type": "markdown",
      "metadata": {
        "id": "view-in-github",
        "colab_type": "text"
      },
      "source": [
        "<a href=\"https://colab.research.google.com/github/jeromy0307/jeromy0307.github.io/blob/master/ncku-1112_C111400/mysympy.ipynb\" target=\"_parent\"><img src=\"https://colab.research.google.com/assets/colab-badge.svg\" alt=\"Open In Colab\"/></a>"
      ]
    },
    {
      "cell_type": "markdown",
      "metadata": {
        "id": "waC2My9gFTmI"
      },
      "source": [
        "# 計算機概論期末報告範本\n",
        "\n",
        "使用Colab製作期末報告內容需包含 \n",
        "* 以matplotlib繪圖(三個函數)\n",
        "* 使用sympy解決微積分課本中的三種類型題目：極限、微分、積分；每種類型請各做三個例題。\n",
        "* 使用sympy計算某函數的微分，接著再使用 lambdify 將其定義為函數，同時以matplotlib畫出原函數與其微分的函數圖形\n",
        "* 請貼上個人照片\n",
        "* 繳交時請繳交ipynb檔以及轉換的pdf檔\n"
      ]
    },
    {
      "cell_type": "markdown",
      "metadata": {
        "id": "NA0uskGSFTmK"
      },
      "source": [
        "# 成功大學數學系 林子閔 C14116190"
      ]
    },
    {
      "cell_type": "markdown",
      "source": [
        "<img src=\"https://nbk.acad.ncku.edu.tw/pho/index.php?c=showphoto&m=index&s=APP&no=C14116190&code=35165d513ee241bacde3f846c3420afc\" width=\"146px\">"
      ],
      "metadata": {
        "id": "15e4QCQVDkGQ"
      }
    },
    {
      "cell_type": "markdown",
      "metadata": {
        "id": "CWcGxHihFTmP"
      },
      "source": [
        "報告中的程式碼或是說明不需要鉅細靡遺，原則上能作到日後需要使用這些功能時看這篇說明就可以使用，或是類似網路上一堆使用教學的網誌那就夠了。報告繳交時，除了相關檔案外(ipynb、圖檔)，請將你的ipynb檔另存為pdf檔繳交。"
      ]
    },
    {
      "cell_type": "markdown",
      "metadata": {
        "id": "S_yzQnbmFTmP"
      },
      "source": [
        "## 使用matplotlib畫圖"
      ]
    },
    {
      "cell_type": "markdown",
      "metadata": {
        "id": "l3zOxFefFTmR"
      },
      "source": [
        "首先載入需要的畫圖模組"
      ]
    },
    {
      "cell_type": "code",
      "metadata": {
        "id": "YODvTmX-FTmS"
      },
      "source": [
        "import matplotlib.pyplot as plt\n",
        "import numpy as np\n",
        "from numpy import sin, cos, exp\n",
        "#%matplotlib inline"
      ],
      "execution_count": null,
      "outputs": []
    },
    {
      "cell_type": "markdown",
      "metadata": {
        "id": "LqV47_gcFTmZ"
      },
      "source": [
        "畫 $\\cos{e^x}$，$x_a \\le x \\le x_b$\n"
      ]
    },
    {
      "cell_type": "code",
      "metadata": {
        "id": "QKJYSJdVFTma",
        "colab": {
          "base_uri": "https://localhost:8080/",
          "height": 36
        },
        "outputId": "fb80d815-96d0-462a-af5d-ba50f023e07a"
      },
      "source": [
        "'''NumP = 1000\n",
        "x = list(range(0,NumP+1))\n",
        "y = list(range(0,NumP+1))\n",
        "xa = 0.0\n",
        "xb = 10.0\n",
        "dx = (xb-xa)/float(NumP)'''"
      ],
      "execution_count": null,
      "outputs": [
        {
          "output_type": "execute_result",
          "data": {
            "text/plain": [
              "'NumP = 1000\\nx = list(range(0,NumP+1))\\ny = list(range(0,NumP+1))\\nxa = 0.0\\nxb = 10.0\\ndx = (xb-xa)/float(NumP)'"
            ],
            "application/vnd.google.colaboratory.intrinsic+json": {
              "type": "string"
            }
          },
          "metadata": {},
          "execution_count": 51
        }
      ]
    },
    {
      "cell_type": "markdown",
      "metadata": {
        "id": "f-oS3h7qFTmf"
      },
      "source": [
        "注意底下的x[i]、y[i]的寫法，為了畫圖，我們在[xa,xb]取了NumP+1個點(包含兩個端點)，在上面的cell裡，我們計算了分割大小(dx)，然後在底下以loop的方式產生x[i]以及函數在該點的值y[i]。"
      ]
    },
    {
      "cell_type": "code",
      "source": [
        "'''for i in list(range(NumP+1)):\n",
        "    x[i] = xa+dx*float(i)\n",
        "    y[i]=cos(exp(x[i]))'''"
      ],
      "metadata": {
        "id": "vtXZ0mPcEqiq",
        "colab": {
          "base_uri": "https://localhost:8080/",
          "height": 36
        },
        "outputId": "7ebfc73a-cf05-4fcc-b459-29fdc3ba664a"
      },
      "execution_count": null,
      "outputs": [
        {
          "output_type": "execute_result",
          "data": {
            "text/plain": [
              "'for i in list(range(NumP+1)):\\n    x[i] = xa+dx*float(i)\\n    y[i]=cos(exp(x[i]))'"
            ],
            "application/vnd.google.colaboratory.intrinsic+json": {
              "type": "string"
            }
          },
          "metadata": {},
          "execution_count": 52
        }
      ]
    },
    {
      "cell_type": "markdown",
      "source": [
        "不過上述的程式不是好的寫法，比較好的做法是使用numpy的array，請參考以下的寫法"
      ],
      "metadata": {
        "id": "sZ3L3PqfErtG"
      }
    },
    {
      "cell_type": "code",
      "source": [
        "import matplotlib.pyplot as plt\n",
        "import numpy as np\n",
        "from numpy import cos, exp\n",
        "NumP = 1000\n",
        "xa = 0.0\n",
        "xb = 10.0\n",
        "dx = (xb-xa)/(NumP)\n",
        "x = np.linspace(xa,xb,NumP+1)\n",
        "y = np.cos(np.exp(x))\n",
        "print(dx)\n",
        "print(x)"
      ],
      "metadata": {
        "id": "W_HOxofkE_XE",
        "colab": {
          "base_uri": "https://localhost:8080/"
        },
        "outputId": "b4bce299-b483-4438-e4a8-19d0e14dea0e"
      },
      "execution_count": null,
      "outputs": [
        {
          "output_type": "stream",
          "name": "stdout",
          "text": [
            "0.01\n",
            "[ 0.    0.01  0.02 ...  9.98  9.99 10.  ]\n"
          ]
        }
      ]
    },
    {
      "cell_type": "code",
      "metadata": {
        "id": "cCkdq7CtFTmf",
        "colab": {
          "base_uri": "https://localhost:8080/",
          "height": 472
        },
        "outputId": "bf27f4fc-827a-4cff-f52d-7f6191c453c5"
      },
      "source": [
        "# 開始畫圖\n",
        "\n",
        "    # 設定要畫的的x,y數據list....\n",
        "\n",
        "plt.plot(x,y) \n",
        "    # 設定圖的範圍, 不設的話，系統會自行決定\n",
        "plt.xlim(0,10)\n",
        "plt.ylim(-1.5,1.5)\n",
        "    # 照需要寫入x 軸和y軸的 label 以及title\n",
        "\n",
        "plt.xlabel(\"x\") \n",
        "plt.ylabel(\"y-axis\") \n",
        "plt.title(\"$\\cos{e^x}$\") \n",
        "    # 在這個指令之前，都還在做畫圖的動作 \n",
        "    # 這個指令算是 \"秀圖\" \n",
        "plt.show() "
      ],
      "execution_count": null,
      "outputs": [
        {
          "output_type": "display_data",
          "data": {
            "text/plain": [
              "<Figure size 640x480 with 1 Axes>"
            ],
            "image/png": "[encoded data removed]"
          },
          "metadata": {}
        }
      ]
    },
    {
      "cell_type": "code",
      "source": [
        "import matplotlib.pyplot as plt\n",
        "import numpy as np\n",
        "from numpy import sin, cos\n",
        "NumP = 100\n",
        "xa = 0.0\n",
        "xb = 10.0\n",
        "dx = (xb-xa)/(NumP)\n",
        "x = np.linspace(xa,xb,NumP+1)\n",
        "y = np.sin(x) + np.cos(x)\n",
        "print(dx)\n",
        "print(x)"
      ],
      "metadata": {
        "colab": {
          "base_uri": "https://localhost:8080/"
        },
        "id": "TNPbFfFq1qLt",
        "outputId": "0cff383b-41c3-4532-d4fc-3eff54d93004"
      },
      "execution_count": null,
      "outputs": [
        {
          "output_type": "stream",
          "name": "stdout",
          "text": [
            "0.1\n",
            "[ 0.   0.1  0.2  0.3  0.4  0.5  0.6  0.7  0.8  0.9  1.   1.1  1.2  1.3\n",
            "  1.4  1.5  1.6  1.7  1.8  1.9  2.   2.1  2.2  2.3  2.4  2.5  2.6  2.7\n",
            "  2.8  2.9  3.   3.1  3.2  3.3  3.4  3.5  3.6  3.7  3.8  3.9  4.   4.1\n",
            "  4.2  4.3  4.4  4.5  4.6  4.7  4.8  4.9  5.   5.1  5.2  5.3  5.4  5.5\n",
            "  5.6  5.7  5.8  5.9  6.   6.1  6.2  6.3  6.4  6.5  6.6  6.7  6.8  6.9\n",
            "  7.   7.1  7.2  7.3  7.4  7.5  7.6  7.7  7.8  7.9  8.   8.1  8.2  8.3\n",
            "  8.4  8.5  8.6  8.7  8.8  8.9  9.   9.1  9.2  9.3  9.4  9.5  9.6  9.7\n",
            "  9.8  9.9 10. ]\n"
          ]
        }
      ]
    },
    {
      "cell_type": "code",
      "source": [
        "# 開始畫圖\n",
        "\n",
        "    # 設定要畫的的x,y數據list....\n",
        "\n",
        "plt.plot(x,y) \n",
        "    # 設定圖的範圍, 不設的話，系統會自行決定\n",
        "plt.xlim(0,10)\n",
        "plt.ylim(-1.5,1.5)\n",
        "    # 照需要寫入x 軸和y軸的 label 以及title\n",
        "\n",
        "plt.xlabel(\"x\") \n",
        "plt.ylabel(\"y-axis\") \n",
        "plt.title(\"$\\sin(x)+cos(x)$\") \n",
        "    # 在這個指令之前，都還在做畫圖的動作 \n",
        "    # 這個指令算是 \"秀圖\" \n",
        "plt.show() "
      ],
      "metadata": {
        "colab": {
          "base_uri": "https://localhost:8080/",
          "height": 474
        },
        "id": "3PktG9IQ1ruV",
        "outputId": "f354d083-a0f4-4113-bd23-e1dee4120435"
      },
      "execution_count": null,
      "outputs": [
        {
          "output_type": "display_data",
          "data": {
            "text/plain": [
              "<Figure size 640x480 with 1 Axes>"
            ],
            "image/png": "[encoded data removed]"
          },
          "metadata": {}
        }
      ]
    },
    {
      "cell_type": "code",
      "source": [
        "import matplotlib.pyplot as plt\n",
        "import numpy as np\n",
        "from numpy import sinh, cosh, sin\n",
        "NumP = 10000\n",
        "xa = -1000.0\n",
        "xb = 1000.0\n",
        "dx = (xb-xa)/(NumP)\n",
        "x = np.linspace(xa,xb,NumP+1)\n",
        "y = np.sin(x) + np.sinh(x) + np.cosh(x)\n",
        "print(dx)\n",
        "print(x)"
      ],
      "metadata": {
        "colab": {
          "base_uri": "https://localhost:8080/"
        },
        "id": "w8C5Zths3NFW",
        "outputId": "507be65b-2b12-492b-f165-f8503369fb73"
      },
      "execution_count": null,
      "outputs": [
        {
          "output_type": "stream",
          "name": "stdout",
          "text": [
            "0.2\n",
            "[-1000.   -999.8  -999.6 ...   999.6   999.8  1000. ]\n"
          ]
        },
        {
          "output_type": "stream",
          "name": "stderr",
          "text": [
            "<ipython-input-57-42485299acfe>:9: RuntimeWarning: overflow encountered in sinh\n",
            "  y = np.sin(x) + np.sinh(x) + np.cosh(x)\n",
            "<ipython-input-57-42485299acfe>:9: RuntimeWarning: overflow encountered in cosh\n",
            "  y = np.sin(x) + np.sinh(x) + np.cosh(x)\n",
            "<ipython-input-57-42485299acfe>:9: RuntimeWarning: overflow encountered in add\n",
            "  y = np.sin(x) + np.sinh(x) + np.cosh(x)\n",
            "<ipython-input-57-42485299acfe>:9: RuntimeWarning: invalid value encountered in add\n",
            "  y = np.sin(x) + np.sinh(x) + np.cosh(x)\n"
          ]
        }
      ]
    },
    {
      "cell_type": "code",
      "source": [
        "# 開始畫圖\n",
        "\n",
        "    # 設定要畫的的x,y數據list....\n",
        "\n",
        "plt.plot(x,y) \n",
        "    # 設定圖的範圍, 不設的話，系統會自行決定\n",
        "plt.xlim(-100,10)\n",
        "plt.ylim(-10,1000)\n",
        "    # 照需要寫入x 軸和y軸的 label 以及title\n",
        "\n",
        "plt.xlabel(\"x\") \n",
        "plt.ylabel(\"y-axis\") \n",
        "plt.title(\"$\\sin(x)+sinh(x)+cosh(x)$\") \n",
        "    # 在這個指令之前，都還在做畫圖的動作 \n",
        "    # 這個指令算是 \"秀圖\" \n",
        "plt.show() "
      ],
      "metadata": {
        "colab": {
          "base_uri": "https://localhost:8080/",
          "height": 474
        },
        "id": "xB0Untrs3Nvc",
        "outputId": "30e1b6ff-98c0-4c06-e445-a79cc731b0cf"
      },
      "execution_count": null,
      "outputs": [
        {
          "output_type": "display_data",
          "data": {
            "text/plain": [
              "<Figure size 640x480 with 1 Axes>"
            ],
            "image/png": "[encoded data removed]"
          },
          "metadata": {}
        }
      ]
    },
    {
      "cell_type": "markdown",
      "metadata": {
        "id": "buphWFj2FTmm"
      },
      "source": [
        "## 使用sympy計算極限"
      ]
    },
    {
      "cell_type": "markdown",
      "metadata": {
        "id": "S3tWhgcrFTmn"
      },
      "source": [
        "\n",
        "要計算limit，所以需要由sympy(符號計算)引入相關函數，同時需要宣告x是一個符號變數，\n",
        "其中趨近於某一變數之左右極限則可藉助dir=“+”or“-”。<br>\n",
        "所以sympy極限可以用limit({要算的函數}, {變數}, {極限位置}, {左右極限})"
      ]
    },
    {
      "cell_type": "code",
      "source": [
        "from sympy import limit, Symbol, cot, pi\n",
        "x = Symbol('x')"
      ],
      "metadata": {
        "id": "H6zlP92WqHjT"
      },
      "execution_count": null,
      "outputs": []
    },
    {
      "cell_type": "markdown",
      "metadata": {
        "id": "chg8ky2HFTms"
      },
      "source": [
        "1. $\\lim_{x \\to 0^+} {x^x}$"
      ]
    },
    {
      "cell_type": "code",
      "metadata": {
        "id": "fGIEsXe_FTmt",
        "colab": {
          "base_uri": "https://localhost:8080/",
          "height": 37
        },
        "outputId": "3bfd0b6e-24d2-4985-b4c3-d7a4f925b9b0"
      },
      "source": [
        "limit(x**x, x, 0, dir=\"+\")"
      ],
      "execution_count": null,
      "outputs": [
        {
          "output_type": "execute_result",
          "data": {
            "text/plain": [
              "1"
            ],
            "text/latex": "$\\displaystyle 1$"
          },
          "metadata": {},
          "execution_count": 61
        }
      ]
    },
    {
      "cell_type": "markdown",
      "metadata": {
        "id": "TBkK-e6UFTm0"
      },
      "source": [
        "2. $\\lim_{x \\to \\pi^-} {x}{\\cot{x}}$"
      ]
    },
    {
      "cell_type": "code",
      "metadata": {
        "id": "reTHSHmzFTm1",
        "colab": {
          "base_uri": "https://localhost:8080/",
          "height": 37
        },
        "outputId": "848c2b40-0a0c-4fb2-e726-9fa62f756f06"
      },
      "source": [
        "limit(x*cot(x), x, pi, dir=\"-\")"
      ],
      "execution_count": null,
      "outputs": [
        {
          "output_type": "execute_result",
          "data": {
            "text/plain": [
              "-oo"
            ],
            "text/latex": "$\\displaystyle -\\infty$"
          },
          "metadata": {},
          "execution_count": 62
        }
      ]
    },
    {
      "cell_type": "markdown",
      "source": [
        "3. $\\lim_{x \\to 1} \\frac{x-1}{x^2-1}$"
      ],
      "metadata": {
        "id": "wQMLrPQ6qV9p"
      }
    },
    {
      "cell_type": "code",
      "source": [
        "limit((x-1)/(x**2-1), x, 1)"
      ],
      "metadata": {
        "colab": {
          "base_uri": "https://localhost:8080/",
          "height": 51
        },
        "id": "VKXOdz5dqULz",
        "outputId": "22441e91-cd59-49ef-cf4c-1477ae6ced5b"
      },
      "execution_count": null,
      "outputs": [
        {
          "output_type": "execute_result",
          "data": {
            "text/plain": [
              "1/2"
            ],
            "text/latex": "$\\displaystyle \\frac{1}{2}$"
          },
          "metadata": {},
          "execution_count": 63
        }
      ]
    },
    {
      "cell_type": "markdown",
      "metadata": {
        "id": "j0fgSefrFTm5"
      },
      "source": [
        "## 使用sympy計算積分"
      ]
    },
    {
      "cell_type": "markdown",
      "source": [
        "要計算積分，所以需要由sympy(符號計算)引入相關函數，同時需要宣告x是一個符號變數。<br>\n",
        "所以sympy積分可以用integrate({要算的函數}, {變數,下限,上限})"
      ],
      "metadata": {
        "id": "K-nkaOASukJZ"
      }
    },
    {
      "cell_type": "code",
      "source": [
        "from sympy import integrate, Symbol, sin, pi\n",
        "x = Symbol('x')"
      ],
      "metadata": {
        "id": "yPiIzFAlu6qD"
      },
      "execution_count": null,
      "outputs": []
    },
    {
      "cell_type": "markdown",
      "source": [
        "1. $$\\int_0^1 4+3x^2\\, dx$$"
      ],
      "metadata": {
        "id": "YZVBPw6AvWMC"
      }
    },
    {
      "cell_type": "code",
      "source": [
        "integrate(4+3*x**2,(x,0,1))"
      ],
      "metadata": {
        "colab": {
          "base_uri": "https://localhost:8080/",
          "height": 37
        },
        "id": "m68qBQlovV5i",
        "outputId": "e7e9c574-6fbb-48d3-9ab4-c9abcec97977"
      },
      "execution_count": null,
      "outputs": [
        {
          "output_type": "execute_result",
          "data": {
            "text/plain": [
              "5"
            ],
            "text/latex": "$\\displaystyle 5$"
          },
          "metadata": {},
          "execution_count": 65
        }
      ]
    },
    {
      "cell_type": "markdown",
      "source": [
        "2. $$\\int_0^\\pi sin5x, dx$$"
      ],
      "metadata": {
        "id": "l59xsNvk3fbn"
      }
    },
    {
      "cell_type": "code",
      "source": [
        "integrate(sin(5*x),(x,0,pi))"
      ],
      "metadata": {
        "colab": {
          "base_uri": "https://localhost:8080/",
          "height": 51
        },
        "id": "dMW9VFks3fk3",
        "outputId": "6ac948f7-7a9d-43ba-ea5e-83c1addb2ff4"
      },
      "execution_count": null,
      "outputs": [
        {
          "output_type": "execute_result",
          "data": {
            "text/plain": [
              "2/5"
            ],
            "text/latex": "$\\displaystyle \\frac{2}{5}$"
          },
          "metadata": {},
          "execution_count": 66
        }
      ]
    },
    {
      "cell_type": "markdown",
      "source": [
        "3. $$\\int x^6, dx$$"
      ],
      "metadata": {
        "id": "rCzBSQqh4ECI"
      }
    },
    {
      "cell_type": "code",
      "source": [
        "integrate(x**6,(x))"
      ],
      "metadata": {
        "colab": {
          "base_uri": "https://localhost:8080/",
          "height": 54
        },
        "id": "dLdg3Xoq4EVP",
        "outputId": "0f30fdf0-fcff-427e-e82a-36c1c4de8fb1"
      },
      "execution_count": null,
      "outputs": [
        {
          "output_type": "execute_result",
          "data": {
            "text/plain": [
              "x**7/7"
            ],
            "text/latex": "$\\displaystyle \\frac{x^{7}}{7}$"
          },
          "metadata": {},
          "execution_count": 67
        }
      ]
    },
    {
      "cell_type": "markdown",
      "metadata": {
        "id": "bXGARU3aFTm_"
      },
      "source": [
        "## 使用sympy計算微分"
      ]
    },
    {
      "cell_type": "markdown",
      "source": [
        "要計算微分，所以需要由sympy(符號計算)引入相關函數，同時需要宣告x是一個符號變數。 所以sympy微分可以用diff({要算的函數}, {變數})"
      ],
      "metadata": {
        "id": "v45xI8l_8fCw"
      }
    },
    {
      "cell_type": "markdown",
      "source": [
        "而當我們需要計算二次微分可以選擇diff({要算的函數}, {變數}) or diff({要算的函數}, {變數}, {變數})"
      ],
      "metadata": {
        "id": "jHT0eZzn8rkK"
      }
    },
    {
      "cell_type": "code",
      "metadata": {
        "id": "A091iVP2FTnB"
      },
      "source": [
        "from sympy import diff, Symbol\n",
        "x = Symbol('x')"
      ],
      "execution_count": null,
      "outputs": []
    },
    {
      "cell_type": "markdown",
      "source": [
        "1. $\\frac{d}{dx} 3x^2$"
      ],
      "metadata": {
        "id": "KOWn_Mkn6Veg"
      }
    },
    {
      "cell_type": "code",
      "source": [
        "diff(3*x**2, x)"
      ],
      "metadata": {
        "colab": {
          "base_uri": "https://localhost:8080/",
          "height": 39
        },
        "id": "WFyvvs3B6VMY",
        "outputId": "94065423-6282-4d10-a23d-b3c61653880d"
      },
      "execution_count": null,
      "outputs": [
        {
          "output_type": "execute_result",
          "data": {
            "text/plain": [
              "6*x"
            ],
            "text/latex": "$\\displaystyle 6 x$"
          },
          "metadata": {},
          "execution_count": 69
        }
      ]
    },
    {
      "cell_type": "markdown",
      "source": [
        "2. $\\frac{d}{dx} (-x)$"
      ],
      "metadata": {
        "id": "v35TSH5s61T6"
      }
    },
    {
      "cell_type": "code",
      "source": [
        "diff(-x, x)"
      ],
      "metadata": {
        "colab": {
          "base_uri": "https://localhost:8080/",
          "height": 37
        },
        "id": "w5YStKWA61L4",
        "outputId": "9c39683c-ac0f-45cd-c1e9-e3d3dcd11822"
      },
      "execution_count": null,
      "outputs": [
        {
          "output_type": "execute_result",
          "data": {
            "text/plain": [
              "-1"
            ],
            "text/latex": "$\\displaystyle -1$"
          },
          "metadata": {},
          "execution_count": 70
        }
      ]
    },
    {
      "cell_type": "markdown",
      "source": [
        "3. $\\frac{d^2}{dx^2} x^7$"
      ],
      "metadata": {
        "id": "_zAVMH9L6_pv"
      }
    },
    {
      "cell_type": "code",
      "source": [
        "diff(x**7, x, x)"
      ],
      "metadata": {
        "colab": {
          "base_uri": "https://localhost:8080/",
          "height": 39
        },
        "id": "dw7OwLl06_iJ",
        "outputId": "6098d4b2-4a12-4918-fc05-39ca0d76c74f"
      },
      "execution_count": null,
      "outputs": [
        {
          "output_type": "execute_result",
          "data": {
            "text/plain": [
              "42*x**5"
            ],
            "text/latex": "$\\displaystyle 42 x^{5}$"
          },
          "metadata": {},
          "execution_count": 71
        }
      ]
    },
    {
      "cell_type": "markdown",
      "source": [
        "### lambdify\n",
        "使用sympy計算函數的微分，接著再使用 lambdify 將其定義為函數，同時以matplotlib畫出原函數與其微分的函數圖形"
      ],
      "metadata": {
        "id": "jEBFjJA7vvnF"
      }
    },
    {
      "cell_type": "markdown",
      "source": [
        "$\\frac{d}{dx} 3x^2$"
      ],
      "metadata": {
        "id": "tnyzWUaVpzOj"
      }
    },
    {
      "cell_type": "code",
      "source": [
        "from sympy import diff, Symbol, lambdify\n",
        "x = Symbol('x')\n",
        "myf = 3*x**2\n",
        "mydf = diff(myf,x)\n",
        "myfn = lambdify(x, myf) # 可以帶入浮點數進行計算的函數\n",
        "mydfn = lambdify(x, mydf)\n"
      ],
      "metadata": {
        "id": "Oa9rEQy7vvND"
      },
      "execution_count": null,
      "outputs": []
    },
    {
      "cell_type": "markdown",
      "source": [
        "以下是使用numpy與matplotlib畫圖\n"
      ],
      "metadata": {
        "id": "AsmqTpvswUub"
      }
    },
    {
      "cell_type": "code",
      "source": [
        "import matplotlib.pyplot as plt\n",
        "import numpy as np\n",
        "NumP = 1000\n",
        "xa = 0.0\n",
        "xb = 10.0\n",
        "dx = (xb-xa)/(NumP)\n",
        "xn = np.linspace(xa,xb,NumP+1)\n",
        "y1 = myfn(xn)\n",
        "y2 = mydfn(xn)\n",
        "plt.plot(xn,y1,xn,y2)"
      ],
      "metadata": {
        "colab": {
          "base_uri": "https://localhost:8080/",
          "height": 465
        },
        "id": "ArPTGZyJwUfn",
        "outputId": "1ff4fa2f-a86f-478d-8a05-82bd4bc26784"
      },
      "execution_count": null,
      "outputs": [
        {
          "output_type": "execute_result",
          "data": {
            "text/plain": [
              "[<matplotlib.lines.Line2D at 0x7f50044e02e0>,\n",
              " <matplotlib.lines.Line2D at 0x7f50044e0280>]"
            ]
          },
          "metadata": {},
          "execution_count": 73
        },
        {
          "output_type": "display_data",
          "data": {
            "text/plain": [
              "<Figure size 640x480 with 1 Axes>"
            ],
            "image/png": "[encoded data removed]"
          },
          "metadata": {}
        }
      ]
    },
    {
      "cell_type": "markdown",
      "metadata": {
        "id": "9h36fiykFTnQ"
      },
      "source": [
        "## 補充資料：Latex"
      ]
    },
    {
      "cell_type": "markdown",
      "metadata": {
        "id": "WliH94DpFTnR"
      },
      "source": [
        "上面內容中，除了ipython的輸出外，有時候你會看到數學式混雜在文字敘述中，如果你把該cell改成 Raw NBConvert 會發現有些式子在$ $中，那些式子是latex的寫法。latex是常用來打數學方程是的一種軟體，但是要整篇文章都用latex打，需要時間熟悉用法。在ipython notebook或是markdown裡，允許我們在文字中使用latex語法打數學式，比方說(\"$\" 前的\"*\"是讓markdown以條列式方式表示)\n",
        "\n",
        "* $\\sum_{i=1}^n a_i=0$\n",
        "\n",
        "* $f(x)=x^{x^x}$\n",
        "\n",
        "* $\\frac{du}{dt}$ and $\\frac{d^2 u}{dx^2}$\n",
        "\n",
        "* $\\lim_{x \\to 0} \\frac{3x^2 +7x^3}{x^2 +5x^4} = 3.$\n",
        "\n",
        "* $\\int_a^b f(x)\\,dx.$\n",
        "\n",
        "* $\\int_0^{+\\infty} x^n e^{-x} \\,dx = n!.$ \n",
        "\n",
        "* $\\int \\cos \\theta \\,d\\theta = \\sin \\theta.$\n",
        "\n",
        "* $\\int_{x^2 + y^2 \\leq R^2} f(x,y)\\,dx\\,dy = \\int_{\\theta=0}^{2\\pi} \\int_{r=0} ^R f(r\\cos\\theta,r\\sin\\theta) r\\,dr\\,d\\theta.$\n",
        "\n",
        "* $$ \\int_{x^2 + y^2 \\leq R^2} f(x,y)\\,dx\\,dy = \\int_{\\theta=0}^{2\\pi} \\int_{r=0} ^R f(r\\cos\\theta,r\\sin\\theta) r\\,dr\\,d\\theta.$$\n",
        "\n",
        "最後一個例子我是用\"$$\"夾起整個式子，這在latex裡是表示這個式子要獨占一行置中，同時顯示的格式會比較漂亮。\n",
        "\n",
        "請注意\"$\"和你的式子間不要有空白\n",
        "\n",
        "如果你想把報告打漂亮一點，可以試著使用latex"
      ]
    },
    {
      "cell_type": "markdown",
      "metadata": {
        "id": "-3z3Fmc7FTnS"
      },
      "source": [
        "## 參考資料："
      ]
    },
    {
      "cell_type": "markdown",
      "metadata": {
        "id": "Wk6DOqfEFTnT"
      },
      "source": [
        "資料來源：[mysympy.ipynb](https://colab.research.google.com/drive/1DcSioS0QEgr1zwk7p6ElLfGXux7v3z9-?usp=sharing)<br>\n",
        "底下是一些參考資料，網路上還有非常多資料可以使用(用星號可以條列式顯示，各項間請空一行之後在轉換成pdf檔時才不會擠在一起)\n",
        "\n",
        "* [LaTeX技巧10：LaTeX數學公式輸入初級入門](http://blog.sina.com.cn/s/blog_5e16f1770100fs38.html)\n",
        "\n",
        "* [Markdown的用法](http://markdown.tw/)\n",
        "\n",
        "* [炎龍老師的blogIPython 的 Notebook 界面](http://yenlungblog.wordpress.com/2013/11/21/python-ipython-%E7%9A%84-notebook-%E7%95%8C%E9%9D%A2/)\n",
        "\n",
        "* [用python 畫圖 -- matplotlib -- 騙錢教學](http://onionys.blogspot.tw/2012/01/python-matplotlib.html)\n",
        "\n",
        "* [SymPy -- 使用 Python 幫你導煩人的數學公式（三）](http://www.gtwang.org/2012/12/sympy3.html)"
      ]
    }
  ]
}